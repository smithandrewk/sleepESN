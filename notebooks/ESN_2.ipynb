{
 "cells": [
  {
   "cell_type": "code",
   "execution_count": null,
   "metadata": {},
   "outputs": [],
   "source": [
    "import numpy as np\n",
    "from matplotlib import pyplot as plt\n",
    "from pyESN.pyESN import ESN\n",
    "from utils import *\n",
    "from scipy.signal import periodogram,decimate\n",
    "# rng = np.random.RandomState(42)"
   ]
  },
  {
   "cell_type": "code",
   "execution_count": null,
   "metadata": {},
   "outputs": [],
   "source": [
    "metadata = read_metadata_by_fileindex(1)\n",
    "labels = metadata['label']\n",
    "\n",
    "metadata = metadata.iloc[:,2:]\n",
    "ctrl = np.hstack([np.ones((len(metadata),1)),metadata.iloc[:,0].to_numpy().reshape(-1,1)])\n",
    "output = labels.to_numpy().reshape(len(labels),1)\n",
    "ctrl = ctrl.astype(float)\n",
    "output = output.astype(float)"
   ]
  },
  {
   "cell_type": "code",
   "execution_count": null,
   "metadata": {},
   "outputs": [],
   "source": [
    "N = len(ctrl) # signal length\n",
    "traintest_cutoff = int(np.ceil(0.7*N))"
   ]
  },
  {
   "cell_type": "code",
   "execution_count": null,
   "metadata": {},
   "outputs": [],
   "source": [
    "train_ctrl,train_output = ctrl[:traintest_cutoff],output[:traintest_cutoff]\n",
    "test_ctrl, test_output  = ctrl[traintest_cutoff:],output[traintest_cutoff:]"
   ]
  },
  {
   "cell_type": "code",
   "execution_count": 135,
   "metadata": {},
   "outputs": [
    {
     "name": "stdout",
     "output_type": "stream",
     "text": [
      "harvesting states...\n",
      "fitting...\n",
      "training error:\n",
      "0.06426631978272594\n",
      "test error:\n"
     ]
    },
    {
     "ename": "ValueError",
     "evalue": "The truth value of an array with more than one element is ambiguous. Use a.any() or a.all()",
     "output_type": "error",
     "traceback": [
      "\u001b[0;31m---------------------------------------------------------------------------\u001b[0m",
      "\u001b[0;31mValueError\u001b[0m                                Traceback (most recent call last)",
      "\u001b[1;32m/home/andrew/sleepESN/ESN_2.ipynb Cell 5\u001b[0m in \u001b[0;36m<cell line: 17>\u001b[0;34m()\u001b[0m\n\u001b[1;32m     <a href='vscode-notebook-cell:/home/andrew/sleepESN/ESN_2.ipynb#X10sZmlsZQ%3D%3D?line=14'>15</a>\u001b[0m pred_train,W \u001b[39m=\u001b[39m esn\u001b[39m.\u001b[39mfit(train_ctrl,train_output)\n\u001b[1;32m     <a href='vscode-notebook-cell:/home/andrew/sleepESN/ESN_2.ipynb#X10sZmlsZQ%3D%3D?line=15'>16</a>\u001b[0m \u001b[39mprint\u001b[39m(\u001b[39m\"\u001b[39m\u001b[39mtest error:\u001b[39m\u001b[39m\"\u001b[39m)\n\u001b[0;32m---> <a href='vscode-notebook-cell:/home/andrew/sleepESN/ESN_2.ipynb#X10sZmlsZQ%3D%3D?line=16'>17</a>\u001b[0m pred_test \u001b[39m=\u001b[39m esn\u001b[39m.\u001b[39;49mpredict(test_ctrl,test_output)\n\u001b[1;32m     <a href='vscode-notebook-cell:/home/andrew/sleepESN/ESN_2.ipynb#X10sZmlsZQ%3D%3D?line=17'>18</a>\u001b[0m \u001b[39mprint\u001b[39m(np\u001b[39m.\u001b[39msqrt(np\u001b[39m.\u001b[39mmean((pred_test \u001b[39m-\u001b[39m test_output)\u001b[39m*\u001b[39m\u001b[39m*\u001b[39m\u001b[39m2\u001b[39m)))\n",
      "File \u001b[0;32m~/sleepESN/pyESN/pyESN.py:234\u001b[0m, in \u001b[0;36mESN.predict\u001b[0;34m(self, inputs, continuation)\u001b[0m\n\u001b[1;32m    231\u001b[0m     inputs \u001b[39m=\u001b[39m np\u001b[39m.\u001b[39mreshape(inputs, (\u001b[39mlen\u001b[39m(inputs), \u001b[39m-\u001b[39m\u001b[39m1\u001b[39m))\n\u001b[1;32m    232\u001b[0m n_samples \u001b[39m=\u001b[39m inputs\u001b[39m.\u001b[39mshape[\u001b[39m0\u001b[39m]\n\u001b[0;32m--> 234\u001b[0m \u001b[39mif\u001b[39;00m continuation:\n\u001b[1;32m    235\u001b[0m     laststate \u001b[39m=\u001b[39m \u001b[39mself\u001b[39m\u001b[39m.\u001b[39mlaststate\n\u001b[1;32m    236\u001b[0m     lastinput \u001b[39m=\u001b[39m \u001b[39mself\u001b[39m\u001b[39m.\u001b[39mlastinput\n",
      "\u001b[0;31mValueError\u001b[0m: The truth value of an array with more than one element is ambiguous. Use a.any() or a.all()"
     ]
    }
   ],
   "source": [
    "esn = ESN(n_inputs = 2,\n",
    "          n_outputs = 1,\n",
    "          n_reservoir = 5000,\n",
    "          spectral_radius = .25,\n",
    "          sparsity = 0.95,\n",
    "          noise = 0.001,\n",
    "          input_shift = [0,0],\n",
    "          input_scaling = [0.01, 3],\n",
    "          teacher_scaling = 1.12,\n",
    "          teacher_shift = -0.7,\n",
    "          out_activation = np.tanh,\n",
    "          inverse_out_activation = np.arctanh,\n",
    "          silent = False)\n",
    "\n",
    "pred_train,W = esn.fit(train_ctrl,train_output)\n",
    "print(\"test error:\")\n",
    "pred_test = esn.predict(test_ctrl,test_output)\n",
    "print(np.sqrt(np.mean((pred_test - test_output)**2)))"
   ]
  },
  {
   "cell_type": "code",
   "execution_count": null,
   "metadata": {},
   "outputs": [],
   "source": [
    "plt.figure(figsize=(10,1.5))\n",
    "# plt.plot(train_ctrl[:,1],label='control')\n",
    "plt.plot(train_output,label='target')\n",
    "plt.plot(pred_train,label='model')\n",
    "plt.legend(fontsize='x-small')\n",
    "plt.title('training (excerpt)')\n",
    "\n",
    "plt.figure(figsize=(10,4))\n",
    "# plt.plot(test_ctrl[:,1],label='control')\n",
    "plt.plot(test_output,label='target')\n",
    "plt.plot(pred_test,label='model')\n",
    "plt.legend(fontsize='x-small')\n",
    "plt.title('test (excerpt)')\n"
   ]
  },
  {
   "cell_type": "code",
   "execution_count": null,
   "metadata": {},
   "outputs": [],
   "source": [
    "df = pd.DataFrame(W)\n",
    "ws = []\n",
    "df = df[df!=0]\n",
    "for col in df.columns:\n",
    "    for weight in df[col].dropna().to_numpy():\n",
    "        ws.append(weight)\n",
    "plt.hist(ws)"
   ]
  },
  {
   "cell_type": "code",
   "execution_count": null,
   "metadata": {},
   "outputs": [],
   "source": []
  }
 ],
 "metadata": {
  "kernelspec": {
   "display_name": "Python 3.10.6 64-bit",
   "language": "python",
   "name": "python3"
  },
  "language_info": {
   "codemirror_mode": {
    "name": "ipython",
    "version": 3
   },
   "file_extension": ".py",
   "mimetype": "text/x-python",
   "name": "python",
   "nbconvert_exporter": "python",
   "pygments_lexer": "ipython3",
   "version": "3.10.6"
  },
  "orig_nbformat": 4,
  "vscode": {
   "interpreter": {
    "hash": "916dbcbb3f70747c44a77c7bcd40155683ae19c65e1c03b4aa3499c5328201f1"
   }
  }
 },
 "nbformat": 4,
 "nbformat_minor": 2
}
