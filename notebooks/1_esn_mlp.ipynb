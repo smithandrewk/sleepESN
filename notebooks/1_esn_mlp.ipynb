{
 "cells": [
  {
   "cell_type": "code",
   "execution_count": 2,
   "metadata": {},
   "outputs": [],
   "source": [
    "import numpy as np\n",
    "from matplotlib import pyplot as plt\n",
    "from pyESN.pyESN import ESN\n",
    "from utils import *\n",
    "from scipy.signal import periodogram,decimate"
   ]
  },
  {
   "cell_type": "code",
   "execution_count": 16,
   "metadata": {},
   "outputs": [],
   "source": [
    "# eeg = get_eeg_by_fileindex(1)\n",
    "metadata = read_metadata_by_fileindex(1)\n",
    "# eeg = decimate(eeg, q=10).reshape(-1, 1)\n",
    "from sklearn.preprocessing import MinMaxScaler\n",
    "scaler = MinMaxScaler()\n",
    "eeg = metadata.iloc[:,2:-2]\n",
    "ctrl = scaler.fit_transform(eeg).astype(float)\n",
    "output = metadata['label'].to_numpy().astype(float)"
   ]
  },
  {
   "cell_type": "code",
   "execution_count": null,
   "metadata": {},
   "outputs": [],
   "source": [
    "ctrl = np.zeros((1,501))\n",
    "output = np.zeros((1,1))\n",
    "from tqdm import tqdm\n",
    "for i,epoch_label in tqdm(enumerate(metadata['label'].to_numpy())):\n",
    "    ctrl = np.vstack((ctrl,np.hstack((1,eeg[i*500:(i*500)+500]))))\n",
    "    output = np.vstack((output,epoch_label))\n",
    "ctrl = np.delete(ctrl,0,axis=0)\n",
    "output = np.delete(output,0,axis=0)"
   ]
  },
  {
   "cell_type": "code",
   "execution_count": 17,
   "metadata": {},
   "outputs": [],
   "source": [
    "N = len(ctrl) # signal length\n",
    "traintest_cutoff = int(np.ceil(0.5*N))"
   ]
  },
  {
   "cell_type": "code",
   "execution_count": 18,
   "metadata": {},
   "outputs": [],
   "source": [
    "train_ctrl,train_output = ctrl[:traintest_cutoff],output[:traintest_cutoff]\n",
    "test_ctrl, test_output  = ctrl[traintest_cutoff:],output[traintest_cutoff:]"
   ]
  },
  {
   "cell_type": "code",
   "execution_count": 20,
   "metadata": {},
   "outputs": [
    {
     "ename": "KeyboardInterrupt",
     "evalue": "",
     "output_type": "error",
     "traceback": [
      "\u001b[0;31m---------------------------------------------------------------------------\u001b[0m",
      "\u001b[0;31mKeyboardInterrupt\u001b[0m                         Traceback (most recent call last)",
      "\u001b[1;32m/home/andrew/sleepESN/initial_ESN.ipynb Cell 6\u001b[0m in \u001b[0;36m<cell line: 1>\u001b[0;34m()\u001b[0m\n\u001b[0;32m----> <a href='vscode-notebook-cell:/home/andrew/sleepESN/initial_ESN.ipynb#X10sZmlsZQ%3D%3D?line=0'>1</a>\u001b[0m esn \u001b[39m=\u001b[39m ESN(n_inputs \u001b[39m=\u001b[39;49m \u001b[39m40\u001b[39;49m,\n\u001b[1;32m      <a href='vscode-notebook-cell:/home/andrew/sleepESN/initial_ESN.ipynb#X10sZmlsZQ%3D%3D?line=1'>2</a>\u001b[0m         n_outputs \u001b[39m=\u001b[39;49m \u001b[39m1\u001b[39;49m,\n\u001b[1;32m      <a href='vscode-notebook-cell:/home/andrew/sleepESN/initial_ESN.ipynb#X10sZmlsZQ%3D%3D?line=2'>3</a>\u001b[0m         n_reservoir \u001b[39m=\u001b[39;49m \u001b[39m2000\u001b[39;49m,\n\u001b[1;32m      <a href='vscode-notebook-cell:/home/andrew/sleepESN/initial_ESN.ipynb#X10sZmlsZQ%3D%3D?line=3'>4</a>\u001b[0m         spectral_radius \u001b[39m=\u001b[39;49m \u001b[39m.25\u001b[39;49m,\n\u001b[1;32m      <a href='vscode-notebook-cell:/home/andrew/sleepESN/initial_ESN.ipynb#X10sZmlsZQ%3D%3D?line=4'>5</a>\u001b[0m         sparsity \u001b[39m=\u001b[39;49m \u001b[39m0.95\u001b[39;49m,\n\u001b[1;32m      <a href='vscode-notebook-cell:/home/andrew/sleepESN/initial_ESN.ipynb#X10sZmlsZQ%3D%3D?line=5'>6</a>\u001b[0m         noise \u001b[39m=\u001b[39;49m \u001b[39m0.001\u001b[39;49m,\n\u001b[1;32m      <a href='vscode-notebook-cell:/home/andrew/sleepESN/initial_ESN.ipynb#X10sZmlsZQ%3D%3D?line=6'>7</a>\u001b[0m         out_activation \u001b[39m=\u001b[39;49m np\u001b[39m.\u001b[39;49mtanh,\n\u001b[1;32m      <a href='vscode-notebook-cell:/home/andrew/sleepESN/initial_ESN.ipynb#X10sZmlsZQ%3D%3D?line=7'>8</a>\u001b[0m         inverse_out_activation \u001b[39m=\u001b[39;49m np\u001b[39m.\u001b[39;49marctanh,\n\u001b[1;32m      <a href='vscode-notebook-cell:/home/andrew/sleepESN/initial_ESN.ipynb#X10sZmlsZQ%3D%3D?line=8'>9</a>\u001b[0m         silent \u001b[39m=\u001b[39;49m \u001b[39mFalse\u001b[39;49;00m)\n\u001b[1;32m     <a href='vscode-notebook-cell:/home/andrew/sleepESN/initial_ESN.ipynb#X10sZmlsZQ%3D%3D?line=10'>11</a>\u001b[0m pred_train \u001b[39m=\u001b[39m esn\u001b[39m.\u001b[39mfit(train_ctrl,train_output)\n",
      "File \u001b[0;32m~/sleepESN/pyESN/pyESN.py:91\u001b[0m, in \u001b[0;36mESN.__init__\u001b[0;34m(self, n_inputs, n_outputs, n_reservoir, spectral_radius, sparsity, noise, input_shift, input_scaling, teacher_forcing, feedback_scaling, teacher_scaling, teacher_shift, out_activation, inverse_out_activation, random_state, silent)\u001b[0m\n\u001b[1;32m     89\u001b[0m \u001b[39mself\u001b[39m\u001b[39m.\u001b[39mteacher_forcing \u001b[39m=\u001b[39m teacher_forcing\n\u001b[1;32m     90\u001b[0m \u001b[39mself\u001b[39m\u001b[39m.\u001b[39msilent \u001b[39m=\u001b[39m silent\n\u001b[0;32m---> 91\u001b[0m \u001b[39mself\u001b[39;49m\u001b[39m.\u001b[39;49minitweights()\n",
      "File \u001b[0;32m~/sleepESN/pyESN/pyESN.py:100\u001b[0m, in \u001b[0;36mESN.initweights\u001b[0;34m(self)\u001b[0m\n\u001b[1;32m     98\u001b[0m W[\u001b[39mself\u001b[39m\u001b[39m.\u001b[39mrandom_state_\u001b[39m.\u001b[39mrand(\u001b[39m*\u001b[39mW\u001b[39m.\u001b[39mshape) \u001b[39m<\u001b[39m \u001b[39mself\u001b[39m\u001b[39m.\u001b[39msparsity] \u001b[39m=\u001b[39m \u001b[39m0\u001b[39m\n\u001b[1;32m     99\u001b[0m \u001b[39m# compute the spectral radius of these weights:\u001b[39;00m\n\u001b[0;32m--> 100\u001b[0m radius \u001b[39m=\u001b[39m np\u001b[39m.\u001b[39mmax(np\u001b[39m.\u001b[39mabs(np\u001b[39m.\u001b[39;49mlinalg\u001b[39m.\u001b[39;49meigvals(W)))\n\u001b[1;32m    101\u001b[0m \u001b[39m# rescale them to reach the requested spectral radius:\u001b[39;00m\n\u001b[1;32m    102\u001b[0m \u001b[39mself\u001b[39m\u001b[39m.\u001b[39mW \u001b[39m=\u001b[39m W \u001b[39m*\u001b[39m (\u001b[39mself\u001b[39m\u001b[39m.\u001b[39mspectral_radius \u001b[39m/\u001b[39m radius)\n",
      "File \u001b[0;32m<__array_function__ internals>:180\u001b[0m, in \u001b[0;36meigvals\u001b[0;34m(*args, **kwargs)\u001b[0m\n",
      "File \u001b[0;32m~/.local/lib/python3.10/site-packages/numpy/linalg/linalg.py:1063\u001b[0m, in \u001b[0;36meigvals\u001b[0;34m(a)\u001b[0m\n\u001b[1;32m   1060\u001b[0m extobj \u001b[39m=\u001b[39m get_linalg_error_extobj(\n\u001b[1;32m   1061\u001b[0m     _raise_linalgerror_eigenvalues_nonconvergence)\n\u001b[1;32m   1062\u001b[0m signature \u001b[39m=\u001b[39m \u001b[39m'\u001b[39m\u001b[39mD->D\u001b[39m\u001b[39m'\u001b[39m \u001b[39mif\u001b[39;00m isComplexType(t) \u001b[39melse\u001b[39;00m \u001b[39m'\u001b[39m\u001b[39md->D\u001b[39m\u001b[39m'\u001b[39m\n\u001b[0;32m-> 1063\u001b[0m w \u001b[39m=\u001b[39m _umath_linalg\u001b[39m.\u001b[39;49meigvals(a, signature\u001b[39m=\u001b[39;49msignature, extobj\u001b[39m=\u001b[39;49mextobj)\n\u001b[1;32m   1065\u001b[0m \u001b[39mif\u001b[39;00m \u001b[39mnot\u001b[39;00m isComplexType(t):\n\u001b[1;32m   1066\u001b[0m     \u001b[39mif\u001b[39;00m \u001b[39mall\u001b[39m(w\u001b[39m.\u001b[39mimag \u001b[39m==\u001b[39m \u001b[39m0\u001b[39m):\n",
      "\u001b[0;31mKeyboardInterrupt\u001b[0m: "
     ]
    }
   ],
   "source": [
    "esn = ESN(n_inputs = 40,\n",
    "        n_outputs = 1,\n",
    "        n_reservoir = 200,\n",
    "        spectral_radius = .25,\n",
    "        sparsity = 0.95,\n",
    "        noise = 0.001,\n",
    "        out_activation = np.tanh,\n",
    "        inverse_out_activation = np.arctanh,\n",
    "        silent = False)\n",
    "\n",
    "pred_train = esn.fit(train_ctrl,train_output)\n",
    "\n",
    "# print(\"test error:\")\n",
    "# pred_test = esn.predict(test_ctrl)\n",
    "# print(np.sqrt(np.mean((pred_test - test_output)**2)))"
   ]
  },
  {
   "cell_type": "code",
   "execution_count": null,
   "metadata": {},
   "outputs": [],
   "source": [
    "plt.figure(figsize=(10,1.5))\n",
    "plt.plot(train_ctrl[:,1],label='control')\n",
    "plt.plot(train_output,label='target')\n",
    "plt.plot(pred_train,label='model')\n",
    "plt.legend(fontsize='x-small')\n",
    "plt.title('training (excerpt)')\n",
    "\n",
    "plt.figure(figsize=(10,4))\n",
    "plt.plot(test_ctrl[:,1],label='control')\n",
    "plt.plot(test_output,label='target')\n",
    "plt.plot(pred_test,label='model')\n",
    "plt.legend(fontsize='x-small')\n",
    "plt.title('test (excerpt)')\n"
   ]
  },
  {
   "cell_type": "code",
   "execution_count": null,
   "metadata": {},
   "outputs": [],
   "source": [
    "df = pd.DataFrame(W)\n",
    "ws = []\n",
    "df = df[df!=0]\n",
    "for col in df.columns:\n",
    "    for weight in df[col].dropna().to_numpy():\n",
    "        ws.append(weight)\n",
    "plt.hist(ws)"
   ]
  },
  {
   "cell_type": "code",
   "execution_count": null,
   "metadata": {},
   "outputs": [],
   "source": []
  }
 ],
 "metadata": {
  "kernelspec": {
   "display_name": "Python 3.10.6 64-bit",
   "language": "python",
   "name": "python3"
  },
  "language_info": {
   "codemirror_mode": {
    "name": "ipython",
    "version": 3
   },
   "file_extension": ".py",
   "mimetype": "text/x-python",
   "name": "python",
   "nbconvert_exporter": "python",
   "pygments_lexer": "ipython3",
   "version": "3.10.6"
  },
  "orig_nbformat": 4,
  "vscode": {
   "interpreter": {
    "hash": "916dbcbb3f70747c44a77c7bcd40155683ae19c65e1c03b4aa3499c5328201f1"
   }
  }
 },
 "nbformat": 4,
 "nbformat_minor": 2
}
